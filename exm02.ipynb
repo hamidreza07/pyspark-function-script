{
  "nbformat": 4,
  "nbformat_minor": 0,
  "metadata": {
    "colab": {
      "name": "exm02.ipynb",
      "provenance": [],
      "collapsed_sections": [],
      "toc_visible": true,
      "authorship_tag": "ABX9TyO/8oTydfcKLtWurm3Ul8+t",
      "include_colab_link": true
    },
    "kernelspec": {
      "name": "python3",
      "display_name": "Python 3"
    },
    "language_info": {
      "name": "python"
    }
  },
  "cells": [
    {
      "cell_type": "markdown",
      "metadata": {
        "id": "view-in-github",
        "colab_type": "text"
      },
      "source": [
        "<a href=\"https://colab.research.google.com/github/alifzl/Zhaav-MINER-Scripts/blob/main/exm02.ipynb\" target=\"_parent\"><img src=\"https://colab.research.google.com/assets/colab-badge.svg\" alt=\"Open In Colab\"/></a>"
      ]
    },
    {
      "cell_type": "code",
      "execution_count": 1,
      "metadata": {
        "colab": {
          "base_uri": "https://localhost:8080/"
        },
        "id": "-htSmI57XzsX",
        "outputId": "4318600d-ed89-4e0b-e1b9-00bfe7197d28"
      },
      "outputs": [
        {
          "output_type": "stream",
          "name": "stdout",
          "text": [
            "Looking in indexes: https://pypi.org/simple, https://us-python.pkg.dev/colab-wheels/public/simple/\n",
            "Collecting pyspark\n",
            "  Downloading pyspark-3.3.0.tar.gz (281.3 MB)\n",
            "\u001b[K     |████████████████████████████████| 281.3 MB 49 kB/s \n",
            "\u001b[?25hCollecting py4j==0.10.9.5\n",
            "  Downloading py4j-0.10.9.5-py2.py3-none-any.whl (199 kB)\n",
            "\u001b[K     |████████████████████████████████| 199 kB 53.7 MB/s \n",
            "\u001b[?25hBuilding wheels for collected packages: pyspark\n",
            "  Building wheel for pyspark (setup.py) ... \u001b[?25l\u001b[?25hdone\n",
            "  Created wheel for pyspark: filename=pyspark-3.3.0-py2.py3-none-any.whl size=281764026 sha256=0ed5dca11fe20fcef785588cc225ea8a657f18a33da7b7016ee3221af5961625\n",
            "  Stored in directory: /root/.cache/pip/wheels/7a/8e/1b/f73a52650d2e5f337708d9f6a1750d451a7349a867f928b885\n",
            "Successfully built pyspark\n",
            "Installing collected packages: py4j, pyspark\n",
            "Successfully installed py4j-0.10.9.5 pyspark-3.3.0\n"
          ]
        },
        {
          "output_type": "stream",
          "name": "stderr",
          "text": [
            "WARNING:root:'PYARROW_IGNORE_TIMEZONE' environment variable was not set. It is required to set this environment variable to '1' in both driver and executor sides if you use pyarrow>=2.0.0. pandas-on-Spark will set it for you but it does not work if there is a Spark context already launched.\n"
          ]
        }
      ],
      "source": [
        "!pip install pyspark\n",
        "from typing import Union\n",
        "from pyspark.ml.feature import VectorAssembler\n",
        "from pyspark.sql.types import *\n",
        "from pyspark.sql.functions import *\n",
        "from pyspark.ml.feature import StringIndexer\n",
        "from pyspark.ml.feature import MinMaxScaler\n",
        "from pyspark.pandas import *\n",
        "from pyspark.ml.classification import *\n",
        "from pyspark.ml.evaluation import *\n",
        "from pyspark.sql import functions\n",
        "from pyspark.ml.tuning import CrossValidator, ParamGridBuilder"
      ]
    },
    {
      "cell_type": "markdown",
      "source": [
        "# create sparksesion in order to use spark sql:"
      ],
      "metadata": {
        "id": "QPS8w2aPEKF3"
      }
    },
    {
      "cell_type": "code",
      "source": [
        "def createSparkSession(appname:str):\n",
        "        '''\n",
        "        create spark session rdd.\n",
        "            Parameters:\n",
        "            ---------- \n",
        "                    appname (str): The appliction name  \n",
        "                    \n",
        "\n",
        "            Returns:\n",
        "                    SparkSession\n",
        "\n",
        "        '''\n",
        "        \n",
        "        import pyspark\n",
        "        from pyspark.sql import SparkSession\n",
        "        spark = SparkSession.builder.appName(appname).getOrCreate()\n",
        "        return spark"
      ],
      "metadata": {
        "id": "EKR3oFy-Bdcc"
      },
      "execution_count": 2,
      "outputs": []
    },
    {
      "cell_type": "code",
      "source": [
        "spark=createSparkSession(\"exp02\")"
      ],
      "metadata": {
        "id": "Gwxf7KZRx2BQ"
      },
      "execution_count": 3,
      "outputs": []
    },
    {
      "cell_type": "markdown",
      "source": [
        "## Read CSV file into DataFrame with schema and header\n"
      ],
      "metadata": {
        "id": "rB0MbE_dD3L2"
      }
    },
    {
      "cell_type": "code",
      "source": [
        "def readcsvfile(header:str,inferSchema:str,appname:str,path:str,sep:str=None):\n",
        "        '''\n",
        "        create dataframe by reading csv file.\n",
        "            Parameters:\n",
        "            ---------- \n",
        "                    header(str):  auto detect header of the file  ,\n",
        "                  \n",
        "                    inferSchema(str):  auto detect type of columns,\n",
        "                    \n",
        "                    appname(str):  The appliction name,\n",
        "                    \n",
        "                    path(str):    file path\n",
        "                    \n",
        "                    sep(str): columns separator\n",
        "\n",
        "            Returns\n",
        "        --------------\n",
        "               dataframe( :class:`DataFrame) : return dataframe out of csv file\n",
        "\n",
        "        '''\n",
        "        spark=createSparkSession(appname)\n",
        "        dataframe=spark.read.csv(path,header=header,inferSchema=inferSchema,sep=sep) \n",
        "        return dataframe"
      ],
      "metadata": {
        "id": "wayYYq7DDgOr"
      },
      "execution_count": 8,
      "outputs": []
    },
    {
      "cell_type": "code",
      "source": [
        "df=readcsvfile(header=True,inferSchema=True,appname=\"exp01\",path='/content/legal_text_classification.csv',sep=',')"
      ],
      "metadata": {
        "id": "tm89VvgcEXI7"
      },
      "execution_count": 51,
      "outputs": []
    },
    {
      "cell_type": "code",
      "source": [
        "def show(dataframe,number:int=None,truncate:bool=None):\n",
        "        '''\n",
        "        show the dataframe .\n",
        "        \n",
        "        Parameters:\n",
        "        -------------- \n",
        "                   \n",
        "            dataframe(:class:`DataFrame) : select dataframe\n",
        "                    \n",
        "            number(int) : optional, number of rows to show.\n",
        "            \n",
        "            truncate : bool, optional\n",
        "            If set to ``True``, truncate strings longer than 20 chars by default.\n",
        "            If set to a number greater than one, truncates long strings to length ``truncate``\n",
        "            and align cells right.\n",
        "            \n",
        "            Returns\n",
        "        --------------\n",
        "               \"\"\"Prints the first ``n`` rows to the console.\n",
        "\n",
        "    \n",
        "\n",
        "        \n",
        "\n",
        "                '''\n",
        "        dataframe.show(number,truncate)"
      ],
      "metadata": {
        "id": "syTfz-VJE0Z3"
      },
      "execution_count": 10,
      "outputs": []
    },
    {
      "cell_type": "markdown",
      "source": [
        "## common command"
      ],
      "metadata": {
        "id": "XO8QyuyCGjja"
      }
    },
    {
      "cell_type": "markdown",
      "source": [
        "### show the dataframe"
      ],
      "metadata": {
        "id": "oiNO-rQdGW2b"
      }
    },
    {
      "cell_type": "code",
      "source": [
        "show(df,5,False)"
      ],
      "metadata": {
        "colab": {
          "base_uri": "https://localhost:8080/"
        },
        "id": "jNNbHIAeFPEJ",
        "outputId": "896dd38d-e6f4-44e0-f813-8c90e611c8c3"
      },
      "execution_count": 11,
      "outputs": [
        {
          "output_type": "stream",
          "name": "stdout",
          "text": [
            "+-------+------------+------------------------------------------------------------------------------------------+-----------------------------------------------------------------------------------------------------------------------------------------------------------------------------------------------------------------------------------------------------------------------------------------------------------------------------------------------------------------------------------------------------------------------------------------------------------------------------------------------------------------------------------------------------------------------------------------------------------------------------------------------------------------------------------------------------------------------------+\n",
            "|case_id|case_outcome|case_title                                                                                |case_text                                                                                                                                                                                                                                                                                                                                                                                                                                                                                                                                                                                                                                                                                                                    |\n",
            "+-------+------------+------------------------------------------------------------------------------------------+-----------------------------------------------------------------------------------------------------------------------------------------------------------------------------------------------------------------------------------------------------------------------------------------------------------------------------------------------------------------------------------------------------------------------------------------------------------------------------------------------------------------------------------------------------------------------------------------------------------------------------------------------------------------------------------------------------------------------------+\n",
            "|Case1  |cited       |Alpine Hardwood (Aust) Pty Ltd v Hardys Pty Ltd (No 2) [2002] FCA 224 ; (2002) 190 ALR 121|Ordinarily that discretion will be exercised so that costs follow the event and are awarded on a party and party basis. A departure from normal practice to award indemnity costs requires some special or unusual feature in the case: Alpine Hardwood (Aust) Pty Ltd v Hardys Pty Ltd (No 2) [2002] FCA 224 ; (2002) 190 ALR 121 at [11] (Weinberg J) citing Colgate Palmolive Co v Cussons Pty Ltd (1993) 46 FCR 225 at 233 (Sheppard J).                                                                                                                                                                                                                                                                                 |\n",
            "|Case2  |cited       |Black v Lipovac [1998] FCA 699 ; (1998) 217 ALR 386                                       |\"The general principles governing the exercise of the discretion to award indemnity costs after rejection by an unsuccessful party of a so called Calderbank letter were set out in the judgment of the Full Court in Black v Lipovac [1998] FCA 699 ; (1998) 217 ALR 386. In summary those principles are: 1. Mere refusal of a \"\"Calderbank offer\"\" does not itself warrant an order for indemnity costs. In this connection it may be noted that Jessup J in Dais Studio Pty Ltd v Bullet Creative Pty Ltd [2008] FCA 42 said that (at [6]): if the rejection of such an offer is to ground a claim for indemnity costs                                                                                                   |\n",
            "|Case3  |cited       |Colgate Palmolive Co v Cussons Pty Ltd (1993) 47 FCR 225                                  |Ordinarily that discretion will be exercised so that costs follow the event and are awarded on a party and party basis. A departure from normal practice to award indemnity costs requires some special or unusual feature in the case: Alpine Hardwood (Aust) Pty Ltd v Hardys Pty Ltd (No 2) [2002] FCA 224 ; (2002) 190 ALR 121 at [11] (Weinberg J) citing Colgate Palmolive Co v Cussons Pty Ltd (1993) 46 FCR 225 at 233 (Sheppard J).                                                                                                                                                                                                                                                                                 |\n",
            "|Case4  |cited       |Dais Studio Pty Ltd v Bullett Creative Pty Ltd [2008] FCA 42                              |\"The general principles governing the exercise of the discretion to award indemnity costs after rejection by an unsuccessful party of a so called Calderbank letter were set out in the judgment of the Full Court in Black v Lipovac [1998] FCA 699 ; (1998) 217 ALR 386. In summary those principles are: 1. Mere refusal of a \"\"Calderbank offer\"\" does not itself warrant an order for indemnity costs. In this connection it may be noted that Jessup J in Dais Studio Pty Ltd v Bullet Creative Pty Ltd [2008] FCA 42 said that (at [6]): if the rejection of such an offer is to ground a claim for indemnity costs                                                                                                   |\n",
            "|Case5  |cited       |Dr Martens Australia Pty Ltd v Figgins Holdings Pty Ltd (No 2) [2000] FCA 602             |The preceding general principles inform the exercise of the discretion. That discretion is not to be fettered by transformation of approaches and practices developed through the cases into quasi statutory rules. In John S Hayes &amp; Associates Pty Ltd v Kimberly-Clark Australia Pty Ltd (1994) 52 FCR 201 , Hill J said (at 203): care must be taken not to circumscribe the discretion by reference to closed categories. It is not a necessary condition of the power to award costs that a collateral purpose be shown. The categories warranting the exercise of the discretion are not closed ... See also Goldberg J in Dr Martens Australia Pty Ltd v Figgins Holdings Pty Ltd (No 2) [2000] FCA 602 at [15] .|\n",
            "+-------+------------+------------------------------------------------------------------------------------------+-----------------------------------------------------------------------------------------------------------------------------------------------------------------------------------------------------------------------------------------------------------------------------------------------------------------------------------------------------------------------------------------------------------------------------------------------------------------------------------------------------------------------------------------------------------------------------------------------------------------------------------------------------------------------------------------------------------------------------+\n",
            "only showing top 5 rows\n",
            "\n"
          ]
        }
      ]
    },
    {
      "cell_type": "markdown",
      "source": [
        "### type of dataframe column"
      ],
      "metadata": {
        "id": "sLaI8HvfGqhb"
      }
    },
    {
      "cell_type": "code",
      "source": [
        "def dataframetype(dataframe):\n",
        "    \"\"\"Returns all column names and their data types as a list\n",
        "            \n",
        "        Parameters:\n",
        "        -------------- \n",
        "                   \n",
        "            dataframe(:class:`DataFrame) : select dataframe\n",
        "                    \n",
        "        Returns\n",
        "        --------------\n",
        "               Prints types of the rows \"\"\"\n",
        "    return dataframe.dtypes"
      ],
      "metadata": {
        "id": "2CF-VImKFUFE"
      },
      "execution_count": 12,
      "outputs": []
    },
    {
      "cell_type": "code",
      "source": [
        "dataframetype(df)"
      ],
      "metadata": {
        "colab": {
          "base_uri": "https://localhost:8080/"
        },
        "id": "ox6RTCPyFfY_",
        "outputId": "3f3e87cc-1be9-4536-f9e8-16ed7281dc80"
      },
      "execution_count": 13,
      "outputs": [
        {
          "output_type": "execute_result",
          "data": {
            "text/plain": [
              "[('case_id', 'string'),\n",
              " ('case_outcome', 'string'),\n",
              " ('case_title', 'string'),\n",
              " ('case_text', 'string')]"
            ]
          },
          "metadata": {},
          "execution_count": 13
        }
      ]
    },
    {
      "cell_type": "markdown",
      "source": [
        "### list of the columns"
      ],
      "metadata": {
        "id": "y0JizKcqOvNu"
      }
    },
    {
      "cell_type": "code",
      "source": [
        "def coloumes(dataframe):\n",
        "    \"\"\"Returns all column names  as a list\n",
        "            \n",
        "        Parameters:\n",
        "        -------------- \n",
        "                   \n",
        "            dataframe(:class:`DataFrame) : select dataframe\n",
        "                    \n",
        "        Returns\n",
        "        --------------\n",
        "               Prints all column names \"\"\"\n",
        "    return dataframe.columns"
      ],
      "metadata": {
        "id": "6fBp0g-IHCIi"
      },
      "execution_count": 14,
      "outputs": []
    },
    {
      "cell_type": "code",
      "source": [
        "coloumes(df)"
      ],
      "metadata": {
        "colab": {
          "base_uri": "https://localhost:8080/"
        },
        "id": "qUw0I8BrLi7Z",
        "outputId": "cf0f0968-adc8-4369-b374-c7da76777dc0"
      },
      "execution_count": 15,
      "outputs": [
        {
          "output_type": "execute_result",
          "data": {
            "text/plain": [
              "['case_id', 'case_outcome', 'case_title', 'case_text']"
            ]
          },
          "metadata": {},
          "execution_count": 15
        }
      ]
    },
    {
      "cell_type": "markdown",
      "source": [
        "### select and show some columns"
      ],
      "metadata": {
        "id": "i-Mu-PmzOcNp"
      }
    },
    {
      "cell_type": "code",
      "source": [
        "def select(dataframe,coloumes:Union[list, str]):\n",
        "    \"\"\"select specfic columns by name and return new dataframe\n",
        "            \n",
        "        Parameters:\n",
        "        -------------- \n",
        "                   \n",
        "            dataframe(:class:`DataFrame) : select dataframe\n",
        "            \n",
        "            coloumes(str/list): list of string coloumes names         \n",
        "\n",
        "        Returns\n",
        "        --------------\n",
        "              dataframe_new(:class:`DataFrame ): return new dataframe\n",
        "              \n",
        "              \n",
        "        Example\n",
        "        -------------- \n",
        "            1- common select \n",
        "                \n",
        "                dataframe_new=dataframe.select(\"name\")\n",
        "\n",
        "\n",
        "            \n",
        "            \n",
        "            2- also can slicing the dataframe with start and end\n",
        "            \n",
        "                dataframe_new=dataframe.select(dataframe.columns[start=10:end=20])\"\"\"\n",
        "    dataframe_new=dataframe.select(coloumes)\n",
        "    return dataframe_new"
      ],
      "metadata": {
        "id": "D1eMXTJ2MF-3"
      },
      "execution_count": 16,
      "outputs": []
    },
    {
      "cell_type": "code",
      "source": [
        "select(df,[\"case_id\",\"case_outcome\"]).show()"
      ],
      "metadata": {
        "colab": {
          "base_uri": "https://localhost:8080/"
        },
        "id": "kdW7yxGSMmfj",
        "outputId": "6b1d3bc5-b555-4067-f974-b1c0de893b1a"
      },
      "execution_count": 17,
      "outputs": [
        {
          "output_type": "stream",
          "name": "stdout",
          "text": [
            "+-------+------------+\n",
            "|case_id|case_outcome|\n",
            "+-------+------------+\n",
            "|  Case1|       cited|\n",
            "|  Case2|       cited|\n",
            "|  Case3|       cited|\n",
            "|  Case4|       cited|\n",
            "|  Case5|       cited|\n",
            "|  Case6|       cited|\n",
            "|  Case7|       cited|\n",
            "|  Case8|       cited|\n",
            "|  Case9|     applied|\n",
            "| Case10|    followed|\n",
            "| Case11|       cited|\n",
            "| Case12|       cited|\n",
            "| Case13|    followed|\n",
            "| Case14|    followed|\n",
            "| Case15|    followed|\n",
            "| Case16|    followed|\n",
            "| Case17|    followed|\n",
            "| Case19|       cited|\n",
            "| Case21| referred to|\n",
            "| Case22|       cited|\n",
            "+-------+------------+\n",
            "only showing top 20 rows\n",
            "\n"
          ]
        }
      ]
    },
    {
      "cell_type": "markdown",
      "source": [
        "### list of all rows"
      ],
      "metadata": {
        "id": "lSfvqZCBOWw4"
      }
    },
    {
      "cell_type": "code",
      "source": [
        "def collect(dataframe)->list:\n",
        "  \"\"\" return all of dataframe as list\n",
        "            \n",
        "        Parameters:\n",
        "        -------------- \n",
        "                   \n",
        "            dataframe(:class:`DataFrame) : select dataframe\n",
        "            \n",
        "                   \n",
        "\n",
        "        Returns\n",
        "        --------------\n",
        "              ListData(list): list of all dataframe \"\"\"\n",
        "\n",
        "  ListData=dataframe.collect()\n",
        "  return ListData"
      ],
      "metadata": {
        "id": "r7T1hufdNwXN"
      },
      "execution_count": 18,
      "outputs": []
    },
    {
      "cell_type": "code",
      "source": [
        "collect(df)[0:5]"
      ],
      "metadata": {
        "colab": {
          "base_uri": "https://localhost:8080/"
        },
        "id": "QAuImqi1N1QQ",
        "outputId": "07d9d22f-8614-40d9-afc5-43250622b5cf"
      },
      "execution_count": 19,
      "outputs": [
        {
          "output_type": "execute_result",
          "data": {
            "text/plain": [
              "[Row(case_id='Case1', case_outcome='cited', case_title='Alpine Hardwood (Aust) Pty Ltd v Hardys Pty Ltd (No 2) [2002] FCA 224 ; (2002) 190 ALR 121', case_text='Ordinarily that discretion will be exercised so that costs follow the event and are awarded on a party and party basis. A departure from normal practice to award indemnity costs requires some special or unusual feature in the case: Alpine Hardwood (Aust) Pty Ltd v Hardys Pty Ltd (No 2) [2002] FCA 224 ; (2002) 190 ALR 121 at [11] (Weinberg J) citing Colgate Palmolive Co v Cussons Pty Ltd (1993) 46 FCR 225 at 233 (Sheppard J).'),\n",
              " Row(case_id='Case2', case_outcome='cited', case_title='Black v Lipovac [1998] FCA 699 ; (1998) 217 ALR 386', case_text='\"The general principles governing the exercise of the discretion to award indemnity costs after rejection by an unsuccessful party of a so called Calderbank letter were set out in the judgment of the Full Court in Black v Lipovac [1998] FCA 699 ; (1998) 217 ALR 386. In summary those principles are: 1. Mere refusal of a \"\"Calderbank offer\"\" does not itself warrant an order for indemnity costs. In this connection it may be noted that Jessup J in Dais Studio Pty Ltd v Bullet Creative Pty Ltd [2008] FCA 42 said that (at [6]): if the rejection of such an offer is to ground a claim for indemnity costs'),\n",
              " Row(case_id='Case3', case_outcome='cited', case_title='Colgate Palmolive Co v Cussons Pty Ltd (1993) 47 FCR 225', case_text='Ordinarily that discretion will be exercised so that costs follow the event and are awarded on a party and party basis. A departure from normal practice to award indemnity costs requires some special or unusual feature in the case: Alpine Hardwood (Aust) Pty Ltd v Hardys Pty Ltd (No 2) [2002] FCA 224 ; (2002) 190 ALR 121 at [11] (Weinberg J) citing Colgate Palmolive Co v Cussons Pty Ltd (1993) 46 FCR 225 at 233 (Sheppard J).'),\n",
              " Row(case_id='Case4', case_outcome='cited', case_title='Dais Studio Pty Ltd v Bullett Creative Pty Ltd [2008] FCA 42', case_text='\"The general principles governing the exercise of the discretion to award indemnity costs after rejection by an unsuccessful party of a so called Calderbank letter were set out in the judgment of the Full Court in Black v Lipovac [1998] FCA 699 ; (1998) 217 ALR 386. In summary those principles are: 1. Mere refusal of a \"\"Calderbank offer\"\" does not itself warrant an order for indemnity costs. In this connection it may be noted that Jessup J in Dais Studio Pty Ltd v Bullet Creative Pty Ltd [2008] FCA 42 said that (at [6]): if the rejection of such an offer is to ground a claim for indemnity costs'),\n",
              " Row(case_id='Case5', case_outcome='cited', case_title='Dr Martens Australia Pty Ltd v Figgins Holdings Pty Ltd (No 2) [2000] FCA 602', case_text='The preceding general principles inform the exercise of the discretion. That discretion is not to be fettered by transformation of approaches and practices developed through the cases into quasi statutory rules. In John S Hayes &amp; Associates Pty Ltd v Kimberly-Clark Australia Pty Ltd (1994) 52 FCR 201 , Hill J said (at 203): care must be taken not to circumscribe the discretion by reference to closed categories. It is not a necessary condition of the power to award costs that a collateral purpose be shown. The categories warranting the exercise of the discretion are not closed ... See also Goldberg J in Dr Martens Australia Pty Ltd v Figgins Holdings Pty Ltd (No 2) [2000] FCA 602 at [15] .')]"
            ]
          },
          "metadata": {},
          "execution_count": 19
        }
      ]
    },
    {
      "cell_type": "markdown",
      "source": [
        "## Common filtering"
      ],
      "metadata": {
        "id": "tsHBXzlGOKSY"
      }
    },
    {
      "cell_type": "markdown",
      "source": [
        "### starts with"
      ],
      "metadata": {
        "id": "fGkklVYNPGaW"
      }
    },
    {
      "cell_type": "code",
      "source": [
        "def startswith(dataframe,columns:str,value:str):\n",
        "    \"\"\" return all row of dataframe as a new dataframe that starts with the value  \n",
        "            \n",
        "        Parameters:\n",
        "        -------------- \n",
        "                   \n",
        "            dataframe(:class:`DataFrame) : select dataframe\n",
        "\n",
        "            columns(str) : columns of dataframe\n",
        "            \n",
        "                   \n",
        "\n",
        "        Returns\n",
        "        --------------\n",
        "              dataframe_new(:class:`DataFrame): dataframe of the value\"\"\"\n",
        "    dataframe_new=dataframe.where(dataframe[columns].startswith(value))\n",
        "    return dataframe_new"
      ],
      "metadata": {
        "id": "aQ2x7Rd9N-Uw"
      },
      "execution_count": 20,
      "outputs": []
    },
    {
      "cell_type": "code",
      "source": [
        "startswith(df,\"case_text\",\"A\").show()"
      ],
      "metadata": {
        "colab": {
          "base_uri": "https://localhost:8080/"
        },
        "id": "QEPiLR2NO5hc",
        "outputId": "ce9a2750-3e0f-4cfe-cef8-2bdb250b2ac8"
      },
      "execution_count": 21,
      "outputs": [
        {
          "output_type": "stream",
          "name": "stdout",
          "text": [
            "+-------+-------------+--------------------+--------------------+\n",
            "|case_id| case_outcome|          case_title|           case_text|\n",
            "+-------+-------------+--------------------+--------------------+\n",
            "| Case19|        cited|Motor Terms Co Pt...|Assuming that the...|\n",
            "| Case56|        cited|Australian Securi...|ASIC does not see...|\n",
            "| Case65|  referred to|Meriton Apartment...|As to the annulme...|\n",
            "| Case66|  referred to|Re Gargan; Ex par...|As I understood h...|\n",
            "|Case108|        cited|Chu Kheng Lim v M...|A narrower view o...|\n",
            "|Case118|        cited|Navarrete v Minis...|Allsop J applied ...|\n",
            "|Case122|      applied|Project Blue Sky ...|An effective noti...|\n",
            "|Case127|        cited|Taylor, Re; Ex pa...|A natural person ...|\n",
            "|Case130|        cited|Vassis, Re; Ex pa...|A natural person ...|\n",
            "|Case159|   considered|Australian Compet...|ACCC then made th...|\n",
            "|Case161|  referred to|Odhiambo v Minist...|ACCC then made th...|\n",
            "|Case162|   considered|Sunstate Airlines...|ACCC then made th...|\n",
            "|Case264|   considered|Andi-Co Australia...|And finally, ther...|\n",
            "|Case303|distinguished|Truth About Motor...|A further conside...|\n",
            "|Case353|        cited|Drake v Minister ...|An appeal lies to...|\n",
            "|Case354|        cited|Minister for Abor...|A failure to take...|\n",
            "|Case418|        cited|Brackenreg v Comc...|As Sheppard J sai...|\n",
            "|Case419|        cited|Dixon v Repatriat...|As Sheppard J sai...|\n",
            "|Case420|        cited|Hawkins v Comcare...|As Sheppard J sai...|\n",
            "|Case636|        cited|Columbia Pictures...|Autodesk v Cheung...|\n",
            "+-------+-------------+--------------------+--------------------+\n",
            "only showing top 20 rows\n",
            "\n"
          ]
        }
      ]
    },
    {
      "cell_type": "markdown",
      "source": [
        "### endswith"
      ],
      "metadata": {
        "id": "L8sNl2YCPI4O"
      }
    },
    {
      "cell_type": "code",
      "source": [
        "def endswith(dataframe,columns:str,value:str):\n",
        "    \"\"\" return all row of dataframe as a new dataframe that ends with the value \n",
        "            \n",
        "        Parameters:\n",
        "        -------------- \n",
        "                   \n",
        "            dataframe(:class:`DataFrame) : select dataframe\n",
        "\n",
        "            columns(str) : columns of dataframe\n",
        "            \n",
        "                   \n",
        "\n",
        "        Returns\n",
        "        --------------\n",
        "              dataframe_new(:class:`DataFrame): dataframe of the value\"\"\"\n",
        "    dataframe_new=dataframe.where(dataframe[columns].endswith(value))\n",
        "    return dataframe_new"
      ],
      "metadata": {
        "id": "RClydx9bPCm-"
      },
      "execution_count": 22,
      "outputs": []
    },
    {
      "cell_type": "code",
      "source": [
        "endswith(df,\"case_text\",\"d\").show()"
      ],
      "metadata": {
        "colab": {
          "base_uri": "https://localhost:8080/"
        },
        "id": "KbKCOw_HPKiG",
        "outputId": "173614f3-7702-4647-8807-450cf92aaaf0"
      },
      "execution_count": 24,
      "outputs": [
        {
          "output_type": "stream",
          "name": "stdout",
          "text": [
            "+-------+-------------+--------------------+--------------------+\n",
            "|case_id| case_outcome|          case_title|           case_text|\n",
            "+-------+-------------+--------------------+--------------------+\n",
            "|Case134|  referred to|Australian Securi...|\"Mr Spencer submi...|\n",
            "|Case146|        cited|Kimberly-Clark Au...|\"In any case, the...|\n",
            "|Case152|        cited|No-Fume Ltd v Fra...|\"In any case, the...|\n",
            "|Case190|      applied|Ebner v Official ...|\"I am satisfied t...|\n",
            "|Case191|        cited|Re Refugee Review...|\"While judges of ...|\n",
            "|Case248|     followed|New South Wales v...|\"On 14 November 2...|\n",
            "|Case253|    discussed|Re Dingjan; Ex pa...|\"The High Court i...|\n",
            "|Case254|    discussed|Re Pacific Coal P...|\"The High Court i...|\n",
            "|Case349|        cited|Birdseye v Austra...|\"In TNT Skypak In...|\n",
            "|Case357|   considered|TNT Skypak Intern...|\"In TNT Skypak In...|\n",
            "|Case381|distinguished|Carapark Holdings...|\"The Commissioner...|\n",
            "|Case388|    discussed|Commissioner of T...|\"In Commissioner ...|\n",
            "|Case442|        cited|Akins v Abigroup ...|\"The High Court l...|\n",
            "|Case444|        cited|AMP Financial Pla...|\"The High Court l...|\n",
            "|Case449|        cited|Australian Compet...|\"The High Court l...|\n",
            "|Case452|        cited|AWB Ltd v Cole [2...|\"It is sufficient...|\n",
            "|Case457|        cited|Dingle v Commonwe...|\"It is sufficient...|\n",
            "|Case465|        cited|Ingot Capital Inv...|\"It is sufficient...|\n",
            "|Case467|     followed|Liberty Funding P...|\"The High Court l...|\n",
            "|Case468|     followed|Mann v Carnell [1...|\"The High Court l...|\n",
            "+-------+-------------+--------------------+--------------------+\n",
            "only showing top 20 rows\n",
            "\n"
          ]
        }
      ]
    },
    {
      "cell_type": "markdown",
      "source": [
        "### filter by condition"
      ],
      "metadata": {
        "id": "VRnBWgLbPwji"
      }
    },
    {
      "cell_type": "code",
      "source": [
        "def filt(dataframe,condition:str):\n",
        "    \"\"\" return all row of dataframe as dataframe that filter by condition \n",
        "            \n",
        "        Parameters:\n",
        "        -------------- \n",
        "                   \n",
        "            dataframe(:class:`DataFrame) : select dataframe\n",
        "\n",
        "            columns(str) : columns of dataframe\n",
        "            \n",
        "                   \n",
        "\n",
        "        Returns:\n",
        "        --------------\n",
        "              dataframe_new(:class:`DataFrame): dataframe of the value\n",
        "              \n",
        "        Example:\n",
        "        --------------\n",
        "        dataframe_new = filt (df,df[\"Ward\"]==\"value\") \n",
        "\n",
        "              \"\"\"\n",
        "        \n",
        "        \n",
        "    dataframe_new=dataframe.filter(condition)\n",
        "    return dataframe_new"
      ],
      "metadata": {
        "id": "sLlzhdmNPTn1"
      },
      "execution_count": 25,
      "outputs": []
    },
    {
      "cell_type": "code",
      "source": [
        "filt(df,df[\"case_outcome\"]==\"cited\").show()"
      ],
      "metadata": {
        "colab": {
          "base_uri": "https://localhost:8080/"
        },
        "id": "HDsco8EUPa5Y",
        "outputId": "5cbda74b-9f89-4b25-81af-0732e3c4a9a9"
      },
      "execution_count": 26,
      "outputs": [
        {
          "output_type": "stream",
          "name": "stdout",
          "text": [
            "+-------+------------+--------------------+--------------------+\n",
            "|case_id|case_outcome|          case_title|           case_text|\n",
            "+-------+------------+--------------------+--------------------+\n",
            "|  Case1|       cited|Alpine Hardwood (...|Ordinarily that d...|\n",
            "|  Case2|       cited|Black v Lipovac [...|\"The general prin...|\n",
            "|  Case3|       cited|Colgate Palmolive...|Ordinarily that d...|\n",
            "|  Case4|       cited|Dais Studio Pty L...|\"The general prin...|\n",
            "|  Case5|       cited|Dr Martens Austra...|The preceding gen...|\n",
            "|  Case6|       cited|GEC Marconi Syste...|I accept that the...|\n",
            "|  Case7|       cited|John S Hayes &amp...|The preceding gen...|\n",
            "|  Case8|       cited|Seven Network Lim...|\"On the question ...|\n",
            "| Case11|       cited|Castlemaine Toohe...|Hexal Australia P...|\n",
            "| Case12|       cited|R v McFarlane; Ex...|\"quia timet proce...|\n",
            "| Case19|       cited|Motor Terms Co Pt...|Assuming that the...|\n",
            "| Case22|       cited|Minister for Immi...|is plain that, wh...|\n",
            "| Case23|       cited|Morales v Ministe...|is plain that, wh...|\n",
            "| Case26|       cited|TCN Channel Nine ...|I find that the d...|\n",
            "| Case33|       cited|Australian Securi...|On 30 March 2006 ...|\n",
            "| Case34|       cited|ASIC v Mauer-Swis...|There is a variet...|\n",
            "| Case35|       cited|CAC v Lone Star E...|The orders that c...|\n",
            "| Case36|       cited|Corporate Affairs...|The circumstances...|\n",
            "| Case37|       cited|Australian Securi...|The circumstances...|\n",
            "| Case38|       cited|ASIC v Burke [200...|It is not a neces...|\n",
            "+-------+------------+--------------------+--------------------+\n",
            "only showing top 20 rows\n",
            "\n"
          ]
        }
      ]
    },
    {
      "cell_type": "markdown",
      "source": [
        "## sort data"
      ],
      "metadata": {
        "id": "_iFKv_epP97Z"
      }
    },
    {
      "cell_type": "markdown",
      "source": [
        "### count of data in column"
      ],
      "metadata": {
        "id": "kqJdg3bOQXqL"
      }
    },
    {
      "cell_type": "code",
      "source": [
        "def groupbydesc(dataframe,columnname:str):\n",
        "  \"\"\" return  a sorted dataframe by  columnname\n",
        "            \n",
        "        Parameters:\n",
        "        -------------- \n",
        "                   \n",
        "            dataframe(:class:`DataFrame) : select dataframe           \n",
        "\n",
        "            columnname(str):select the column\n",
        "        Returns:\n",
        "        --------------\n",
        "            df_sorted (:class:`DataFrame) : new sorted dataframe \n",
        "            \n",
        "\n",
        "            \"\"\"\n",
        "  from pyspark.sql.functions import col\n",
        "  df_sorted = dataframe.groupby(columnname).count().orderBy(col(\"count\").desc())\n",
        "  return df_sorted"
      ],
      "metadata": {
        "id": "2ZoTghkmPqZ3"
      },
      "execution_count": 27,
      "outputs": []
    },
    {
      "cell_type": "code",
      "source": [
        "groupbydesc(df,\"case_outcome\").show()"
      ],
      "metadata": {
        "colab": {
          "base_uri": "https://localhost:8080/"
        },
        "id": "hVlDd8MaQHRQ",
        "outputId": "5b94154b-4a48-4b7b-ac74-175e64dd7984"
      },
      "execution_count": 29,
      "outputs": [
        {
          "output_type": "stream",
          "name": "stdout",
          "text": [
            "+-------------+-----+\n",
            "| case_outcome|count|\n",
            "+-------------+-----+\n",
            "|        cited| 6834|\n",
            "|  referred to| 2383|\n",
            "|      applied| 1379|\n",
            "|     followed| 1309|\n",
            "|   considered| 1007|\n",
            "|    discussed|  522|\n",
            "|distinguished|  339|\n",
            "|     affirmed|   66|\n",
            "|      related|   53|\n",
            "|     approved|   43|\n",
            "+-------------+-----+\n",
            "\n"
          ]
        }
      ]
    },
    {
      "cell_type": "markdown",
      "source": [
        "### ascending or descending sort data "
      ],
      "metadata": {
        "id": "5k8hYO3aQ1nP"
      }
    },
    {
      "cell_type": "code",
      "source": [
        "def sortascending(dataframe,coloumes:str,ascending:bool):\n",
        "    \"\"\" return all sorted  dataframe with  ascending or descending method\n",
        "            \n",
        "        Parameters:\n",
        "        -------------- \n",
        "                   \n",
        "            dataframe(:class:`DataFrame) : select dataframe\n",
        "\n",
        "            columns(str) : columns of dataframe\n",
        "            \n",
        "            ascending(bool): if ascending equal to true it's sorted by ascending if it's equal to False sorted descending\n",
        "            \n",
        "                   \n",
        "\n",
        "        Returns:\n",
        "        --------------\n",
        "            dataframe_asc (:class:`DataFrame) : dataframe of sort value\"\"\"\n",
        "\n",
        "    dataframe_asc = dataframe.orderBy(coloumes,ascending=ascending) \n",
        "    return dataframe_asc"
      ],
      "metadata": {
        "id": "naFAkNMUQLvZ"
      },
      "execution_count": 31,
      "outputs": []
    },
    {
      "cell_type": "code",
      "source": [
        "sortascending(df,\"case_outcome\",False).show()"
      ],
      "metadata": {
        "colab": {
          "base_uri": "https://localhost:8080/"
        },
        "id": "arrg4Ad7Qm3g",
        "outputId": "ab7fa776-eaad-43ea-976c-77db6545e35a"
      },
      "execution_count": 32,
      "outputs": [
        {
          "output_type": "stream",
          "name": "stdout",
          "text": [
            "+---------+------------+--------------------+--------------------+\n",
            "|  case_id|case_outcome|          case_title|           case_text|\n",
            "+---------+------------+--------------------+--------------------+\n",
            "| Case7738|     related|Investa Propertie...|On 18 July last, ...|\n",
            "|Case13253|     related|( Orion Telecommu...|On 22 August 2007...|\n",
            "| Case7866|     related|KGL Health Pty Li...|\"The background a...|\n",
            "| Case8779|     related|Australian Securi...|\"The next problem...|\n",
            "| Case8780|     related|Australian Securi...|\"The next problem...|\n",
            "| Case8822|     related|People Telecom Li...|On 11 April 2007 ...|\n",
            "| Case9170|     related|Logic Group Tyres...|\"This is an appli...|\n",
            "|Case10248|     related|BMG Poseidon Corp...|grounds under thi...|\n",
            "|Case10632|     related|Bitech Engineerin...|unjustified threa...|\n",
            "|Case10646|     related|SFE Corporation L...|                null|\n",
            "|Case10899|     related|Citrus Queensland...|In their written ...|\n",
            "|Case10900|     related|Citrus Queensland...|The following iss...|\n",
            "|Case10901|     related|Citrus Queensland...|The following iss...|\n",
            "|Case11031|     related|Council of the Ci...|On 3 May 2006 I d...|\n",
            "|Case11113|     related|Tosich v Tasman I...|On 20 March 2008 ...|\n",
            "|Case11158|     related|BRGAD v Minister ...|The appellant app...|\n",
            "|Case11228|     related|Esco Corporation ...|\"When I delivered...|\n",
            "|Case11937|     related|SZKJI v Minister ...|This appeal from ...|\n",
            "|Case12446|     related|Allphones Retail ...|2006, Hoy Mobile ...|\n",
            "|Case12447|     related|Australian Compet...|\"in November 2008...|\n",
            "+---------+------------+--------------------+--------------------+\n",
            "only showing top 20 rows\n",
            "\n"
          ]
        }
      ]
    },
    {
      "cell_type": "markdown",
      "source": [
        "### filter columns using is in"
      ],
      "metadata": {
        "id": "4DXuFDxxRw8y"
      }
    },
    {
      "cell_type": "code",
      "source": [
        "def isin (dataframe,columns:str,value:str):\n",
        "   \"\"\" return  a  dataframe  where the columns contain Specific  value\n",
        "            \n",
        "        Parameters:\n",
        "        -------------- \n",
        "                   \n",
        "            dataframe(:class:`DataFrame) : select dataframe\n",
        "\n",
        "            columns(str) : columns of dataframe\n",
        "            \n",
        "            value(str): value in columns\n",
        "                   \n",
        "\n",
        "        Returns:\n",
        "        --------------\n",
        "            dataframe_new (:class:`DataFrame) : datafram contain Specific  value\"\"\"\n",
        "   dataframe_new = dataframe[dataframe[columns].isin(value)]\n",
        "   return dataframe_new"
      ],
      "metadata": {
        "id": "veRfZggtQwYd"
      },
      "execution_count": 33,
      "outputs": []
    },
    {
      "cell_type": "code",
      "source": [
        "isin(df,\"case_outcome\",\"affirmed\").show(20)"
      ],
      "metadata": {
        "colab": {
          "base_uri": "https://localhost:8080/"
        },
        "id": "_ANPQBPqRL69",
        "outputId": "679a2ce5-b82d-4242-88e4-6620b98dd1e4"
      },
      "execution_count": 35,
      "outputs": [
        {
          "output_type": "stream",
          "name": "stdout",
          "text": [
            "+--------+------------+--------------------+--------------------+\n",
            "| case_id|case_outcome|          case_title|           case_text|\n",
            "+--------+------------+--------------------+--------------------+\n",
            "| Case189|    affirmed|SZJXC v the Minis...|\"This is an appea...|\n",
            "| Case364|    affirmed|SBRF v Minister f...|\"This is set out ...|\n",
            "| Case920|    affirmed|Nathan v Capital ...|\"appellant, Mr Ka...|\n",
            "|Case1086|    affirmed|BRGAE of 2006 &am...|                null|\n",
            "|Case1185|    affirmed|SZLSW v Minister ...|This is an appeal...|\n",
            "|Case1269|    affirmed|SZNAL v Minister ...|\"appellant is a c...|\n",
            "|Case1601|    affirmed|Hughes v Australi...|\"13 January 2006 ...|\n",
            "|Case1631|    affirmed|Re Taxpayer and F...|The appellant tax...|\n",
            "|Case1982|    affirmed|SZKNB v Minister ...|On 20 May 2008, I...|\n",
            "|Case2081|    affirmed|Internet Centre o...|\"On 5 November 20...|\n",
            "|Case2929|    affirmed|Byrne v Repatriat...|A coronial inquir...|\n",
            "|Case2953|    affirmed|SZKDY v Minister ...|\"This is an appea...|\n",
            "|Case3251|    affirmed|SZMRS v Minister ...|Federal Magistrat...|\n",
            "|Case3272|    affirmed|Farnaby and the M...|\"On 24 January 20...|\n",
            "|Case3606|    affirmed|MZWMF v Minister ...|\"This is an appea...|\n",
            "|Case3721|    affirmed|SZITZ v Minister ...|                null|\n",
            "|Case3995|    affirmed|The Drink Nightcl...|matter before me ...|\n",
            "|Case4314|    affirmed|Singh &amp; Ors v...|\"This is an appea...|\n",
            "|Case4650|    affirmed|Ginos Engineers P...|\"(xi) On 6 Decemb...|\n",
            "|Case4665|    affirmed|Chinda Nouv v Min...|A delegate of the...|\n",
            "+--------+------------+--------------------+--------------------+\n",
            "only showing top 20 rows\n",
            "\n"
          ]
        }
      ]
    },
    {
      "cell_type": "markdown",
      "source": [
        "## handeling null value\n"
      ],
      "metadata": {
        "id": "NI8NKxHmuKb4"
      }
    },
    {
      "cell_type": "markdown",
      "source": [
        "### list of null value count"
      ],
      "metadata": {
        "id": "6kF4UjhMvYEK"
      }
    },
    {
      "cell_type": "code",
      "source": [
        "def null_value_calc(dataframe)->list:\n",
        "  \"\"\" return  a  list of null value\n",
        "            \n",
        "        Parameters:\n",
        "        -------------- \n",
        "                   \n",
        "            dataframe(:class:`DataFrame) : select dataframe           \n",
        "\n",
        "        Returns:\n",
        "        --------------\n",
        "            (null_columns_counts) (list) : list of null value\n",
        "            \n",
        "\n",
        "            \"\"\"\n",
        "  from pyspark.sql.functions import col\n",
        "  null_columns_counts=[]\n",
        "  numrows=dataframe.count()\n",
        "  for k in dataframe.columns:\n",
        "    nullrows=dataframe.where(col(k).isNull()).count()\n",
        "    if (nullrows>0):\n",
        "      temp = k,nullrows,(nullrows/numrows)*100\n",
        "      null_columns_counts.append(temp)\n",
        "  return (null_columns_counts)"
      ],
      "metadata": {
        "id": "KUjE3wALbdkD"
      },
      "execution_count": 36,
      "outputs": []
    },
    {
      "cell_type": "code",
      "source": [
        "null_value_calc(df)"
      ],
      "metadata": {
        "id": "7dquX_zUbk_k",
        "outputId": "4a255f56-2982-4378-b49a-51de63fe6066",
        "colab": {
          "base_uri": "https://localhost:8080/"
        }
      },
      "execution_count": 37,
      "outputs": [
        {
          "output_type": "execute_result",
          "data": {
            "text/plain": [
              "[('case_text', 101, 0.7247936849659132)]"
            ]
          },
          "metadata": {},
          "execution_count": 37
        }
      ]
    },
    {
      "cell_type": "markdown",
      "source": [
        "###drop null values\n",
        "How and Thresh and Subset is optional"
      ],
      "metadata": {
        "id": "7vM-nlDE1rMp"
      }
    },
    {
      "cell_type": "code",
      "source": [
        "def dropnnull(dataframe,thresh:int=None,how:str=\"any\",subset:list=None):\n",
        "  \"\"\" drop all missing data column in dataframe\n",
        "            \n",
        "        Parameters:\n",
        "        -------------- \n",
        "                   \n",
        "            dataframe(:class:`DataFrame) : select dataframe           \n",
        "            \n",
        "            thresh(int,optional) : optional value\n",
        "\n",
        "            how(str,optional) : include (any, all)\n",
        "            \n",
        "            subset(list,optional): list of the column\n",
        "            \n",
        "        Returns:\n",
        "        --------------\n",
        "            dataframe_new (:class:`DataFrame) : new dataframe with drop column \n",
        "            \n",
        "  \"\"\"\n",
        "  dataframe_new=dataframe.na.drop(how,thresh=thresh,subset=subset)\n",
        "  return dataframe_new"
      ],
      "metadata": {
        "id": "l3bg-N6U1Hxi"
      },
      "execution_count": 52,
      "outputs": []
    },
    {
      "cell_type": "code",
      "source": [
        "df=dropnnull(df)"
      ],
      "metadata": {
        "id": "MiXDSeA0cPgq"
      },
      "execution_count": 53,
      "outputs": []
    },
    {
      "cell_type": "markdown",
      "metadata": {
        "id": "ljIOkYcl7AkD"
      },
      "source": [
        "### Drop duplicate rows in a dataframe (distinct) \n",
        "columnsname is optional"
      ]
    },
    {
      "cell_type": "code",
      "execution_count": 54,
      "metadata": {
        "id": "A9Knn4oT7AGd"
      },
      "outputs": [],
      "source": [
        "def dropDuplicates(dataframe,columnsname:list=None):\n",
        "  \"\"\" drop all duplicate  column in dataframe \n",
        "             \n",
        "        Parameters:\n",
        "        -------------- \n",
        "                   \n",
        "            dataframe(:class:`DataFrame) : select dataframe           \n",
        "\n",
        "            \n",
        "            column(list,otional):  column name \n",
        "            \n",
        "        Returns:\n",
        "        --------------\n",
        "            dataframe_new (:class:`DataFrame) : new dataframe with drop the duplicate data \n",
        "            \n",
        "  \"\"\"\n",
        "  dataframe_new = dataframe.drop_duplicates(subset=columnsname)\n",
        "  return dataframe_new"
      ]
    },
    {
      "cell_type": "code",
      "source": [
        "df=dropDuplicates(df)"
      ],
      "metadata": {
        "id": "KEBfkga4cl4b"
      },
      "execution_count": 55,
      "outputs": []
    },
    {
      "cell_type": "markdown",
      "metadata": {
        "id": "f6fb7408"
      },
      "source": [
        "## String Operations"
      ]
    },
    {
      "cell_type": "markdown",
      "source": [
        "###  words and space between"
      ],
      "metadata": {
        "id": "Xfb-vVRic6yV"
      }
    },
    {
      "cell_type": "code",
      "source": [
        "def wordsonly(dataframe,columnname:str):\n",
        "    \"\"\" return dataframe with only words and space between.\n",
        "             \n",
        "        Parameters:\n",
        "        -------------- \n",
        "                   \n",
        "            dataframe(:class:`DataFrame) : select dataframe           \n",
        "            \n",
        "                       \n",
        "            columnname(str):  column name \n",
        "\n",
        "  \n",
        "\n",
        "            \n",
        "        Returns:\n",
        "        --------------\n",
        "            dataframe_new (:class:`DataFrame) : new dataframe with trim a column\n",
        "            \n",
        "    \"\"\" \n",
        "\n",
        "    dataframe_new = dataframe.withColumn(columnname,regexp_replace(col(columnname), '[^A-Za-z]+', ' '))\n",
        "    return dataframe_new"
      ],
      "metadata": {
        "id": "GfYcKC16PHmY"
      },
      "execution_count": 44,
      "outputs": []
    },
    {
      "cell_type": "code",
      "source": [
        "for item in df.columns[1:]:\n",
        "  df=wordsonly(df,item)"
      ],
      "metadata": {
        "id": "BkZcb0LddAOI"
      },
      "execution_count": 56,
      "outputs": []
    },
    {
      "cell_type": "code",
      "source": [
        "df.show(5,truncate=False)"
      ],
      "metadata": {
        "id": "VvlHpf7-dJC_",
        "outputId": "a8ad6c9b-c5cc-4d29-ffa1-a830b7143933",
        "colab": {
          "base_uri": "https://localhost:8080/"
        }
      },
      "execution_count": 62,
      "outputs": [
        {
          "output_type": "stream",
          "name": "stdout",
          "text": [
            "+-------+------------+-----------------------------------------------------------------------------------+-----------------------------------------------------------------------------------------------------------------------------------------------------------------------------------------------------------------------------------------------------------------------------------------------------------------------------------------------------------------------------------------------------------------------------------------------------------------------------------------------------------------------------------------------------------------------------------------------------------------------------------------------------------------------------------------------------------------------------------------------------------------------------------------------------------------------------------------------------------------------------------------------------------------------------------------------------------------------------------------------------------------------------------------------------------------------------------------------------------------------------------------------------------------------------------------------------------------------------------------------------------------------------------------------------------------------------------------------------------------------------------------------------------------------------------------------------------------------------------------------------------------------------------------------------------------------------------------------------------------------------------------------------------------------------------------------------------------------------------------------------------------------------------------------------------------------------------------------------------------------------------------------------------------------------------------------------------------------------------------------------------------------------------------------------------------------------------------------------------------------------------------------------------------------------------------------------------------------------------------------------------------------------------------------------------------------------------------------------------------------------------------------------------------------------------------------------------------------------------------------------------------------------------------------------------------------------------------------------------------------------------------------------------------------------------------------------------------------------------------------------------------------------------------------------------------------------------------------------------------------------------------------------------------------------------------------------------------------------------------------------------------------------------------------------------------------------------------------------------------------------------------------------------------------------------------------------------------------------------------------------------------------------------------------------------------------------------------------------------------------------------------------------------------------------------------------------------------------------------------------------------------------------------------------------------------------------------------------------------------------------------------------------------------------------------------------------------------------------------------------------------------------------------------------------------------------------------------------------------------------------------------------------------------------------------------------------------------------------------------------------------------------------------------------------------------------------------------------------------------------------------------------------------------------------------------------------------------------------------------------------------------------------------------------------------------------------------------------------------------------------------------------------------------------------------------------------------------------------------------------------------------------------------------------------------------------------------------------------------------------------------------------------------------------------------------------------------------------------------------------------------------------------------------------------------------------------------------------------------------------------------------------------------------------------------------------------------------------------------------------------------------------------------------------------------------------------------------------------------------------------------------------------------------------------------------------------------------------------------------------------------------------------------------------------------------------------------------------------------------------------------------------------------------------------------------------------------------------------------------------------------------------------------------------------------------------------------------------------------------------------------------------------------------------------------------------------------------------------------------------------------------------------------------------------------------------------------------------------------------------------------------------------------------------------------------------------------------------------------------------------------------------------------------------------------------------------------------------------------------------------------------------------------------------------------------------------------------------------------------------------------------------------------------------------------------------------------------------------------------------------------------------------------------------------------------------------------------------------------------------------------------------------------------------------------------------------------------------------------------------------------------------------------------------------------------------------------------------------------------------------------------------------------------------------------------------------------------+\n",
            "|case_id|case_outcome|case_title                                                                         |case_text                                                                                                                                                                                                                                                                                                                                                                                                                                                                                                                                                                                                                                                                                                                                                                                                                                                                                                                                                                                                                                                                                                                                                                                                                                                                                                                                                                                                                                                                                                                                                                                                                                                                                                                                                                                                                                                                                                                                                                                                                                                                                                                                                                                                                                                                                                                                                                                                                                                                                                                                                                                                                                                                                                                                                                                                                                                                                                                                                                                                                                                                                                                                                                                                                                                                                                                                                                                                                                                                                                                                                                                                                                                                                                                                                                                                                                                                                                                                                                                                                                                                                                                                                                                                                                                                                                                                                                                                                                                                                                                                                                                                                                                                                                                                                                                                                                                                                                                                                                                                                                                                                                                                                                                                                                                                                                                                                                                                                                                                                                                                                                                                                                                                                                                                                                                                                                                                                                                                                                                                                                                                                                                                                                                                                                                                                                                                                                                                                                                                                                                                                                                                                                                                                                                                                                                                                                |\n",
            "+-------+------------+-----------------------------------------------------------------------------------+-----------------------------------------------------------------------------------------------------------------------------------------------------------------------------------------------------------------------------------------------------------------------------------------------------------------------------------------------------------------------------------------------------------------------------------------------------------------------------------------------------------------------------------------------------------------------------------------------------------------------------------------------------------------------------------------------------------------------------------------------------------------------------------------------------------------------------------------------------------------------------------------------------------------------------------------------------------------------------------------------------------------------------------------------------------------------------------------------------------------------------------------------------------------------------------------------------------------------------------------------------------------------------------------------------------------------------------------------------------------------------------------------------------------------------------------------------------------------------------------------------------------------------------------------------------------------------------------------------------------------------------------------------------------------------------------------------------------------------------------------------------------------------------------------------------------------------------------------------------------------------------------------------------------------------------------------------------------------------------------------------------------------------------------------------------------------------------------------------------------------------------------------------------------------------------------------------------------------------------------------------------------------------------------------------------------------------------------------------------------------------------------------------------------------------------------------------------------------------------------------------------------------------------------------------------------------------------------------------------------------------------------------------------------------------------------------------------------------------------------------------------------------------------------------------------------------------------------------------------------------------------------------------------------------------------------------------------------------------------------------------------------------------------------------------------------------------------------------------------------------------------------------------------------------------------------------------------------------------------------------------------------------------------------------------------------------------------------------------------------------------------------------------------------------------------------------------------------------------------------------------------------------------------------------------------------------------------------------------------------------------------------------------------------------------------------------------------------------------------------------------------------------------------------------------------------------------------------------------------------------------------------------------------------------------------------------------------------------------------------------------------------------------------------------------------------------------------------------------------------------------------------------------------------------------------------------------------------------------------------------------------------------------------------------------------------------------------------------------------------------------------------------------------------------------------------------------------------------------------------------------------------------------------------------------------------------------------------------------------------------------------------------------------------------------------------------------------------------------------------------------------------------------------------------------------------------------------------------------------------------------------------------------------------------------------------------------------------------------------------------------------------------------------------------------------------------------------------------------------------------------------------------------------------------------------------------------------------------------------------------------------------------------------------------------------------------------------------------------------------------------------------------------------------------------------------------------------------------------------------------------------------------------------------------------------------------------------------------------------------------------------------------------------------------------------------------------------------------------------------------------------------------------------------------------------------------------------------------------------------------------------------------------------------------------------------------------------------------------------------------------------------------------------------------------------------------------------------------------------------------------------------------------------------------------------------------------------------------------------------------------------------------------------------------------------------------------------------------------------------------------------------------------------------------------------------------------------------------------------------------------------------------------------------------------------------------------------------------------------------------------------------------------------------------------------------------------------------------------------------------------------------------------------------------------------------------------------------+\n",
            "|Case41 |cited       |Australian Securities and Investments Commission v Giann amp Giann Pty Ltd FCA FCR |Numerous cases have held that s A of the Act extends to a company director who conducts or is involved in a company s carrying on of a financial services business without an Australian financial services licence see Australian Securities and Investments Commission v Giann amp Giann Pty Ltd FCA FCR Australian Securities and Investments Commission v Manito Pty Ltd ACSR Australian Securities and Investments Commission v Drury Management Pty Ltd QSC                                                                                                                                                                                                                                                                                                                                                                                                                                                                                                                                                                                                                                                                                                                                                                                                                                                                                                                                                                                                                                                                                                                                                                                                                                                                                                                                                                                                                                                                                                                                                                                                                                                                                                                                                                                                                                                                                                                                                                                                                                                                                                                                                                                                                                                                                                                                                                                                                                                                                                                                                                                                                                                                                                                                                                                                                                                                                                                                                                                                                                                                                                                                                                                                                                                                                                                                                                                                                                                                                                                                                                                                                                                                                                                                                                                                                                                                                                                                                                                                                                                                                                                                                                                                                                                                                                                                                                                                                                                                                                                                                                                                                                                                                                                                                                                                                                                                                                                                                                                                                                                                                                                                                                                                                                                                                                                                                                                                                                                                                                                                                                                                                                                                                                                                                                                                                                                                                                                                                                                                                                                                                                                                                                                                                                                                                                                                                                        |\n",
            "|Case351|cited       |Collector of Customs v Pozzolanic Enterprises Pty Ltd FCA FCR                      | In Collector of Customs v Pozzolanic Enterprises Pty Ltd FCA FCR the Full Court of the Federal Court sought to identify from previous decisions what might amount to a question of law That decision was considered by the High Court in Collector of Customs v Agfa Gevaert Ltd HCA CLR The Court said at Some recent Federal Court decisions have attempted to distil the numerous authorities on the problem into a number of general propositions Thus in Pozzolanic after referring to many cases the Court identified five general propositions The question whether a word or phrase in a statute is to be given its ordinary meaning or some technical or other meaning is a question of law The ordinary meaning of a word or its non legal technical meaning is a question of fact The meaning of a technical legal term is a question of law The effect or construction of a term whose meaning or interpretation is established is a question of law The question whether facts fully found fall within the provision of a statutory enactment properly construed is generally a question of law Footnotes omitted                                                                                                                                                                                                                                                                                                                                                                                                                                                                                                                                                                                                                                                                                                                                                                                                                                                                                                                                                                                                                                                                                                                                                                                                                                                                                                                                                                                                                                                                                                                                                                                                                                                                                                                                                                                                                                                                                                                                                                                                                                                                                                                                                                                                                                                                                                                                                                                                                                                                                                                                                                                                                                                                                                                                                                                                                                                                                                                                                                                                                                                                                                                                                                                                                                                                                                                                                                                                                                                                                                                                                                                                                                                                                                                                                                                                                                                                                                                                                                                                                                                                                                                                                                                                                                                                                                                                                                                                                                                                                                                                                                                                                                                                                                                                                                                                                                                                                                                                                                                                                                                                                                                                                                                                                                                                                                                                                                                                                                                                                                                                                                                                                                                                                                          |\n",
            "|Case367|cited       |SZEPZ v Minister for Immigration and Multicultural Affairs FCR                     | i Until the Tribunal makes a valid decision on the review that has been initiated by a valid application under s it has a duty to perform that particular review SZEPZ v Minister for Immigration and Multicultural Affairs FCR at iii When a decision on a particular review is set aside it is a decision of the Tribunal not of the person constituting it that is set aside Minister for Immigration and Multicultural Affairs v Wang HCA CLR at Correspondingly a redetermination of the particular review is a redetermination by the Tribunal not by the particular member who happens to constitute the Tribunal for the purpose SZEPZ at iv As was said by the Full Court in SZEPZ at An invalid decision by the Tribunal is no decision at all but it does not follow that all steps and procedures taken in arriving at that invalid decision are themselves invalid The Tribunal still has before it the materials that were obtained when the decision that had been set aside was made To the extent that Cowdroy J is properly to be taken as suggesting to the contrary in SZHLM v Minister for Immigration and Citizenship FCA ALD at his Honour s view ought not be followed in my view v As it is the Tribunal which continues to conduct the particular review consequent upon a remitter the steps taken by the Tribunal to discharge its statutory obligations under s A and s in the conduct of that review prior to the making of an invalid decision may but need not necessarily be a sufficient discharge of those statutory obligations for the purpose of making a subsequent and valid decision on the review SZEPZ on s A SZILQ on s and also NBKM v Minister for Immigration and Citizenship FCA Thus a s A notice or a s invitation given prior to the Tribunal s invalid decision may or may not suffice without a further notice or invitation depending upon whether on the remitter the circumstances then are such that s A or s does or does not require according to their respective terms a fresh notice or invitation                                                                                                                                                                                                                                                                                                                                                                                                                                                                                                                                                                                                                                                                                                                                                                                                                                                                                                                                                                                                                                                                                                                                                                                                                                                                                                                                                                                                                                                                                                                                                                                                                                                                                                                                                                                                                                                                                                                                                                                                                                                                                                                                                                                                                                                                                                                                                                                                                                                                                                                                                                                                                                                                                                                                                                                                                                                                                                                                                                                                                                                                                                                                                                                                                                                                                                                                                                                                                                                                                                                                                                                                                                                                                                                                                                                                                                                                                                                                                                                                                                                                                                                                                                                                                                                                                                                                                                                                                                                                                                                                                                                                                                                                                                                                                                        |\n",
            "|Case390|cited       |Countess of Bective v Commissioner of Taxation HCA CLR                             | The applicants submit that the giving of the direction by ABB Zurich and the subsequent payment of the dividend to BAL occurred at a time when ABB Zurich was a bare trustee of the legal right to receive the dividend both as a matter of Australian law they refer to Commissioner of Taxation v Everett HCA CLR at and as a matter of English law the proper law of the contracts to assign as explained in the evidence of Lord Millett They submit that a taxpayer derives as income only amounts to which it is beneficially entitled citing Countess of Bective v Federal Commissioner of Taxation HCA CLR at Shepherd v Commissioner of Taxation HCA CLR at Zobory v Commissioner of Taxation FCR at Service v Commissioner of Taxation FCA FCR at and Reiter v Commissioner of Taxation FCA FCR at Finally they submit that s A set out above was enacted to maintain a corresponding principle in relation to withholding tax for dividends or interest paid to non resident beneficiaries                                                                                                                                                                                                                                                                                                                                                                                                                                                                                                                                                                                                                                                                                                                                                                                                                                                                                                                                                                                                                                                                                                                                                                                                                                                                                                                                                                                                                                                                                                                                                                                                                                                                                                                                                                                                                                                                                                                                                                                                                                                                                                                                                                                                                                                                                                                                                                                                                                                                                                                                                                                                                                                                                                                                                                                                                                                                                                                                                                                                                                                                                                                                                                                                                                                                                                                                                                                                                                                                                                                                                                                                                                                                                                                                                                                                                                                                                                                                                                                                                                                                                                                                                                                                                                                                                                                                                                                                                                                                                                                                                                                                                                                                                                                                                                                                                                                                                                                                                                                                                                                                                                                                                                                                                                                                                                                                                                                                                                                                                                                                                                                                                                                                                                                                                                                                                                   |\n",
            "|Case440|referred to |The Queen v Ross Jones Ex parte Green HCA CLR                                      |On May Mrs Edge issued proceedings in the Family Court of Australia against the trustee and the bankrupt seeking certain orders under the Family Law Act Cth the Family Law Act During the course of the submissions on the application counsel for Mrs Edge indicated that the orders sought in the proceedings in the Family Court may need to be amended After the submissions a member of the firm of solicitors acting for Mrs Edge filed an affidavit in which it is said that Mrs Edge has amended the application in the proceedings in the Family Court in terms of the orders sought Subject to the question of costs I am prepared to decide this application on the basis of the orders sought in the amended application Those orders are as follows That pursuant to section of the Family Law Act leave of the Court be granted to institute proceedings for the orders applied for hereinafter That pursuant to section of the Family Law Act a declaration be made that Pursuant to section KA of the Family Law Act the Binding Financial Agreement entered into between the husband and wife on May is valid and binding and The transfers executed on and September respectively pursuant to the Binding Financial Agreement entered into between the husband and wife on May are valid and binding In the alternative to that the transfers effected on and September respectively were in contemplation of the Binding Financial Agreement entered into between the husband and wife on May and thus valid and binding As a consequence thereof the wife is entitled to be and remain registered as the sole proprietor both at law and in equity of the properties situate at and known as Range Road North Upper Hermitage in the State of South Australia being all the land comprised in Certificate of Title Volume Folio and amp Pelican Point Morgan in the State of South Australia being all the land comprised in Certificate of Title Volume folio In the alternative that if the Transfers referred to in paragraphs and above are void against the first respondent by reason of the operation of either or both of sections and of the Bankruptcy Act An order pursuant to sub sections K b and c of the Family Law Act terminating the binding financial agreement entered into between the husband and wife on May Such order as is just and equitable pursuant to section K of the Family Law Act preserving or adjusting the rights of the wife in relation to the property the subject of the terminated binding financial agreement In the further alternative to and that pursuant to section of the Family Law Act the net matrimonial assets of the parties be divided as to to the applicant wife and to the respondent husband That the husband s Trustee in Bankruptcy PETER IVAN MACKS be substituted as the Respondent in these proceedings in respect of the husband s property that may vest in the Trustee in Bankruptcy The trustee submits that insofar as an order is sought under s of the Family Law Act the application is out of time and it will be necessary for Mrs Edge to obtain an extension of time I have no information before me as to whether an extension of time will be granted and I think it is appropriate to proceed on the basis that it may be granted Significant amendments were made to the Bankruptcy Act and Family Law Act by the Bankruptcy and Family Law Legislation Amendment Act Cth I will refer to this Act as the Amending Act In terms of the issues in this case it was not suggested that the relevant provisions of the Amending Act did not apply by reason of the fact that the relevant provisions came into effect during the course of I note that the amendments in Schedule came into operation on September those in Schedule on March and the balance on April In order to explain the effect of the Amending Act on the legal rights and interests between a non bankrupt spouse and the trustee in bankruptcy of a bankrupt spouse it is necessary to briefly examine the position before that Act For present purposes the previous position may be summarised as follows First s excludes from the operation of subsection among other things a transfer to meet all or part of a liability under a maintenance agreement Before April maintenance agreement was defined to include a financial agreement within the meaning of the Family Law Act A similar exclusion or exception applied in relation to other provisions in the Bankruptcy Act but it was not an exclusion or exception in the case of the operation of s where the main purpose of the transfer was to prevent the transferred property from becoming divisible among the transferor s creditors or to hinder or delay the process of making property available for division among the transferor s creditors s Before the introduction of the Amending Act Mrs Edge could have raised as a defence or exception to the trustee s claim under s but not s an allegation that the transfers were to meet liabilities under a financial agreement In The Queen v Ross Jones Ex parte Green HCA CLR Wilson and Dawson JJ said at footnotes omitted We should add that even if those proceedings were a matrimonial cause the Family Court would nevertheless lack the power to grant the relief sought Apart from any constitutional limitation it is now authoritatively established that as a matter of construction the general powers of the Family Court are to be understood in the context of the Family Law Act which confers jurisdiction upon the Court in matrimonial causes and associated matters Those powers which include the power to grant injunctive relief under s are not to be construed so as to confer jurisdiction to defeat the rights or enlarge the obligations of persons who are not parties to the marriage involved in the relevant matrimonial cause Ascot Investments Pty Ltd v Harper The principle referred to in the above passages has been applied in a number of cases in this Court and in particular it was applied in a context involving the provisions of the Bankruptcy Act in Deputy Commissioner of Taxation v Swain FCR Davies Lockhart and Burchett JJ said at A sequestration order reflects a right of a creditor and creates rights as between a debtor and his creditors and trustee The Family Court in the pursuit of its duty in an appropriate case to adjust rights as between the parties to a marriage has no power to deprive other parties of their rights Its power to deal with the property of the parties over whom it has jurisdiction must start with the property that is theirs not with property that the law whether the Bankruptcy Act or some other law has vested in another |\n",
            "+-------+------------+-----------------------------------------------------------------------------------+-----------------------------------------------------------------------------------------------------------------------------------------------------------------------------------------------------------------------------------------------------------------------------------------------------------------------------------------------------------------------------------------------------------------------------------------------------------------------------------------------------------------------------------------------------------------------------------------------------------------------------------------------------------------------------------------------------------------------------------------------------------------------------------------------------------------------------------------------------------------------------------------------------------------------------------------------------------------------------------------------------------------------------------------------------------------------------------------------------------------------------------------------------------------------------------------------------------------------------------------------------------------------------------------------------------------------------------------------------------------------------------------------------------------------------------------------------------------------------------------------------------------------------------------------------------------------------------------------------------------------------------------------------------------------------------------------------------------------------------------------------------------------------------------------------------------------------------------------------------------------------------------------------------------------------------------------------------------------------------------------------------------------------------------------------------------------------------------------------------------------------------------------------------------------------------------------------------------------------------------------------------------------------------------------------------------------------------------------------------------------------------------------------------------------------------------------------------------------------------------------------------------------------------------------------------------------------------------------------------------------------------------------------------------------------------------------------------------------------------------------------------------------------------------------------------------------------------------------------------------------------------------------------------------------------------------------------------------------------------------------------------------------------------------------------------------------------------------------------------------------------------------------------------------------------------------------------------------------------------------------------------------------------------------------------------------------------------------------------------------------------------------------------------------------------------------------------------------------------------------------------------------------------------------------------------------------------------------------------------------------------------------------------------------------------------------------------------------------------------------------------------------------------------------------------------------------------------------------------------------------------------------------------------------------------------------------------------------------------------------------------------------------------------------------------------------------------------------------------------------------------------------------------------------------------------------------------------------------------------------------------------------------------------------------------------------------------------------------------------------------------------------------------------------------------------------------------------------------------------------------------------------------------------------------------------------------------------------------------------------------------------------------------------------------------------------------------------------------------------------------------------------------------------------------------------------------------------------------------------------------------------------------------------------------------------------------------------------------------------------------------------------------------------------------------------------------------------------------------------------------------------------------------------------------------------------------------------------------------------------------------------------------------------------------------------------------------------------------------------------------------------------------------------------------------------------------------------------------------------------------------------------------------------------------------------------------------------------------------------------------------------------------------------------------------------------------------------------------------------------------------------------------------------------------------------------------------------------------------------------------------------------------------------------------------------------------------------------------------------------------------------------------------------------------------------------------------------------------------------------------------------------------------------------------------------------------------------------------------------------------------------------------------------------------------------------------------------------------------------------------------------------------------------------------------------------------------------------------------------------------------------------------------------------------------------------------------------------------------------------------------------------------------------------------------------------------------------------------------------------------------------------------------------------------------------------------------------------+\n",
            "only showing top 5 rows\n",
            "\n"
          ]
        }
      ]
    },
    {
      "cell_type": "code",
      "source": [
        "def wordsonly(dataframe,columnname:str):\n",
        "    \"\"\" return dataframe with only words and space between.\n",
        "             \n",
        "        Parameters:\n",
        "        -------------- \n",
        "                   \n",
        "            dataframe(:class:`DataFrame) : select dataframe           \n",
        "            \n",
        "                       \n",
        "            columnname(str):  column name \n",
        "\n",
        "  \n",
        "\n",
        "            \n",
        "        Returns:\n",
        "        --------------\n",
        "            dataframe_new (:class:`DataFrame) : new dataframe with trim a column\n",
        "            \n",
        "    \"\"\" \n",
        "\n",
        "    dataframe_new = dataframe.withColumn(columnname,regexp_replace(col(columnname), '[^A-Za-z]+', ' '))\n",
        "    return dataframe_new"
      ],
      "metadata": {
        "id": "EV2DUx_wdVeh"
      },
      "execution_count": null,
      "outputs": []
    },
    {
      "cell_type": "markdown",
      "metadata": {
        "id": "3227743d"
      },
      "source": [
        "### substring the dataframe"
      ]
    },
    {
      "cell_type": "code",
      "execution_count": 58,
      "metadata": {
        "id": "31b75076"
      },
      "outputs": [],
      "source": [
        "def substrcolumn(dataframe,column:str,newcolumn:str,start:int,lenght:int):\n",
        "    \"\"\" sub string a column and make new column\n",
        "             \n",
        "        Parameters:\n",
        "        -------------- \n",
        "                   \n",
        "            dataframe(:class:`DataFrame) : select dataframe           \n",
        "            \n",
        "                       \n",
        "            column(str):  column name \n",
        "\n",
        "            newcolumn(str): new column name \n",
        "\n",
        "            start (int): starting ponit\n",
        "            \n",
        "            lenght(int) : lenght of column \n",
        "            \n",
        "        Returns:\n",
        "        --------------\n",
        "            dataframe_new (:class:`DataFrame) : new dataframe with substring a column\n",
        "            \n",
        "    \"\"\"\n",
        "    dataframe_new = dataframe.withColumn(newcolumn, dataframe[column].substr(start, lenght))\n",
        "    return dataframe_new"
      ]
    },
    {
      "cell_type": "code",
      "source": [
        "substrcolumn(df,\"case_title\",\"case_title2\",0,2).show()"
      ],
      "metadata": {
        "id": "NUp2H4jxdyBH",
        "outputId": "3c61e0e4-75a2-4801-f433-d43af288120f",
        "colab": {
          "base_uri": "https://localhost:8080/"
        }
      },
      "execution_count": 59,
      "outputs": [
        {
          "output_type": "stream",
          "name": "stdout",
          "text": [
            "+--------+-------------+--------------------+--------------------+-----------+\n",
            "| case_id| case_outcome|          case_title|           case_text|case_title2|\n",
            "+--------+-------------+--------------------+--------------------+-----------+\n",
            "|  Case41|        cited|Australian Securi...|Numerous cases ha...|         Au|\n",
            "| Case351|        cited|Collector of Cust...| In Collector of ...|         Co|\n",
            "| Case367|        cited|SZEPZ v Minister ...| i Until the Trib...|         SZ|\n",
            "| Case390|        cited|Countess of Becti...| The applicants s...|         Co|\n",
            "| Case440|  referred to|The Queen v Ross ...|On May Mrs Edge i...|         Th|\n",
            "| Case546|  referred to|Paras v Public Se...|On May I dismisse...|         Pa|\n",
            "| Case934|        cited|Re Minister for I...| Minister for Imm...|         Re|\n",
            "|Case1365|        cited|GP International ...| In my view the s...|         GP|\n",
            "|Case1488|  referred to|Latoudis v Casey ...| The power of the...|         La|\n",
            "|Case1770|     followed|Strickland v Nati...| June a delegate ...|         St|\n",
            "|Case2274|distinguished|Re Refugee Tribun...|Counsel for the a...|         Re|\n",
            "|Case2534|        cited|Federal Commissio...|In determining wh...|         Fe|\n",
            "|Case2537|        cited|Federal Commissio...|Central to the co...|         Fe|\n",
            "|Case2672|      applied|ASIC v DB Managem...|The word label as...|         AS|\n",
            "|Case2708|        cited|Hubbard v Vosper QB | It is unnecessar...|         Hu|\n",
            "|Case2936|     followed|Minister for Indu...| And the Court no...|         Mi|\n",
            "|Case2983|  referred to|Australian Compet...| making and givin...|         Au|\n",
            "|Case3460|        cited|Australian Broadc...| should also be r...|         Au|\n",
            "|Case3484|        cited|Re Elders Austral...|While it is permi...|         Re|\n",
            "|Case3779|      applied|Yorke v Lucas HCA...| B of the Act pro...|         Yo|\n",
            "+--------+-------------+--------------------+--------------------+-----------+\n",
            "only showing top 20 rows\n",
            "\n"
          ]
        }
      ]
    },
    {
      "cell_type": "markdown",
      "metadata": {
        "id": "e8b0a41f"
      },
      "source": [
        "### Trim the spaces from both ends for the specified string column."
      ]
    },
    {
      "cell_type": "code",
      "execution_count": 61,
      "metadata": {
        "id": "9a92ac98"
      },
      "outputs": [],
      "source": [
        "def trimstrcolumn(dataframe,column,newcolumn:str):\n",
        "    \"\"\" Trim the spaces from both ends for the specified string column.\n",
        "             \n",
        "        Parameters:\n",
        "        -------------- \n",
        "                   \n",
        "            dataframe(:class:`DataFrame) : select dataframe           \n",
        "            \n",
        "                       \n",
        "            column(str):  column name \n",
        "\n",
        "            newcolumn(str): new column name \n",
        "\n",
        "\n",
        "            \n",
        "        Returns:\n",
        "        --------------\n",
        "            dataframe_new (:class:`DataFrame) : new dataframe with trim a column\n",
        "            \n",
        "    \"\"\"\n",
        "\n",
        "    from pyspark.sql import functions as F\n",
        "    dataframe = dataframe.withColumn(newcolumn, F.trim(column))\n",
        "    return dataframe"
      ]
    },
    {
      "cell_type": "code",
      "source": [
        "df=trimstrcolumn(df,\"case_text\",\"case_text\")"
      ],
      "metadata": {
        "id": "GQGIMpQUe4K4"
      },
      "execution_count": 65,
      "outputs": []
    },
    {
      "cell_type": "markdown",
      "metadata": {
        "id": "4660e961"
      },
      "source": [
        "### left trim and right trim"
      ]
    },
    {
      "cell_type": "code",
      "execution_count": 66,
      "metadata": {
        "id": "5b156900"
      },
      "outputs": [],
      "source": [
        "def ltrim(dataframe,newcolumn:str,column:str):\n",
        "    \"\"\" left Trim the spaces from string column.\n",
        "             \n",
        "        Parameters:\n",
        "        -------------- \n",
        "                   \n",
        "            dataframe(:class:`DataFrame) : select dataframe           \n",
        "            \n",
        "                       \n",
        "            column(str):  column name \n",
        "\n",
        "            newcolumn(str): new column name \n",
        "\n",
        "\n",
        "            \n",
        "        Returns:\n",
        "        --------------\n",
        "            dataframe_new (:class:`DataFrame) : new dataframe with trim a column\n",
        "            \n",
        "    \"\"\"\n",
        "    from pyspark.sql import functions as F\n",
        "    dataframe_new = dataframe.withColumn(newcolumn, F.ltrim(dataframe[column]))\n",
        "    return dataframe_new"
      ]
    },
    {
      "cell_type": "code",
      "execution_count": 67,
      "metadata": {
        "id": "7e39d49e"
      },
      "outputs": [],
      "source": [
        "def rtrim(dataframe,newcolumn:str,column:str):\n",
        "    \"\"\" right Trim the spaces from string column.\n",
        "             \n",
        "        Parameters:\n",
        "        -------------- \n",
        "                   \n",
        "            dataframe(:class:`DataFrame) : select dataframe           \n",
        "            \n",
        "                       \n",
        "            column(str):  column name \n",
        "\n",
        "            newcolumn(str): new column name \n",
        "\n",
        "\n",
        "            \n",
        "        Returns:\n",
        "        --------------\n",
        "            dataframe_new (:class:`DataFrame) : new dataframe with trim a column\n",
        "    \"\"\"        \n",
        "    from pyspark.sql import functions as F\n",
        "    dataframe_new = dataframe.withColumn(newcolumn, F.rtrim(dataframe[column]))\n",
        "    return dataframe_new"
      ]
    },
    {
      "cell_type": "markdown",
      "metadata": {
        "id": "734b0e14"
      },
      "source": [
        "### Left-pad the string column to width len with pad"
      ]
    },
    {
      "cell_type": "code",
      "execution_count": 68,
      "metadata": {
        "id": "8911ac55"
      },
      "outputs": [],
      "source": [
        "def leftpad(dataframe,column,newcolumn:str,character:str,digitnumber:int):\n",
        "    \"\"\" Left-pad the string column to width len with pad.\n",
        "             \n",
        "        Parameters:\n",
        "        -------------- \n",
        "                   \n",
        "            dataframe(:class:`DataFrame) : select dataframe           \n",
        "            \n",
        "                       \n",
        "            column(str):  column name \n",
        "\n",
        "            newcolumn(str): new column name \n",
        "\n",
        "            character(str): a character to add a column\n",
        "\n",
        "            digitnumber(int): number of character\n",
        "\n",
        "            \n",
        "        Returns:\n",
        "        --------------\n",
        "            dataframe_new (:class:`DataFrame) : new dataframe with trim a column\n",
        "            \n",
        "    \"\"\"\n",
        "\n",
        "    from pyspark.sql import functions as F\n",
        "    dataframe_new = dataframe.withColumn(newcolumn, F.lpad(dataframe[column], digitnumber, character))\n",
        "    return dataframe_new"
      ]
    },
    {
      "cell_type": "code",
      "source": [
        ""
      ],
      "metadata": {
        "id": "CI3hgPtHfj3A"
      },
      "execution_count": null,
      "outputs": []
    }
  ]
}